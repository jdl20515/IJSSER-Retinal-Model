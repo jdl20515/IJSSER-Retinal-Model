{
  "cells": [
    {
      "cell_type": "markdown",
      "metadata": {
        "id": "view-in-github",
        "colab_type": "text"
      },
      "source": [
        "<a href=\"https://colab.research.google.com/github/jdl20515/retinal-mobilenetv2-model/blob/main/Retinal_MobileNetV2_Model.ipynb\" target=\"_parent\"><img src=\"https://colab.research.google.com/assets/colab-badge.svg\" alt=\"Open In Colab\"/></a>"
      ]
    },
    {
      "cell_type": "code",
      "execution_count": null,
      "metadata": {
        "id": "qQR698FhmHSS"
      },
      "outputs": [],
      "source": [
        "import numpy as np\n",
        "import os\n",
        "import tensorflow as tf\n",
        "import zipfile\n",
        "\n",
        "from tensorflow.keras import Model, Input\n",
        "from tensorflow.keras.applications.mobilenet_v2 import MobileNetV2, preprocess_input\n",
        "from tensorflow.keras.preprocessing.image import ImageDataGenerator\n",
        "from tensorflow.keras.layers import Dense, GlobalAveragePooling2D, Dropout, Conv2D, Flatten, MaxPooling2D, BatchNormalization\n",
        "from tensorflow.keras import regularizers\n",
        "from tensorflow.keras.optimizers import Adam\n",
        "from tensorflow.keras.preprocessing import image\n",
        "%matplotlib inline\n",
        "\n",
        "\n",
        "#os.environ['KAGGLE_CONFIG_DIR'] = \"/content\""
      ]
    },
    {
      "cell_type": "code",
      "execution_count": null,
      "metadata": {
        "id": "c2vJ6swor18D"
      },
      "outputs": [],
      "source": [
        "#!kaggle datasets download -d kssanjaynithish03/retinal fundus imagesi\n",
        "\n",
        "from google.colab import drive\n",
        "drive.mount('/content/drive')"
      ]
    },
    {
      "cell_type": "code",
      "execution_count": null,
      "metadata": {
        "id": "2SCLRrHGsZLJ"
      },
      "outputs": [],
      "source": [
        "dataset_path = '/content/drive/MyDrive/Retinal_Fundus_Images'"
      ]
    },
    {
      "cell_type": "code",
      "execution_count": null,
      "metadata": {
        "id": "gp7D3nOqlSEY"
      },
      "outputs": [],
      "source": [
        "# Make training and valdiation sets\n",
        "train = ImageDataGenerator(rescale = 1/255)\n",
        "val = ImageDataGenerator(rescale = 1/255)\n",
        "\n",
        "training_set = train.flow_from_directory(\"/content/drive/MyDrive/Retinal_Fundus_Images/train\",\n",
        "                                         target_size = (224,224),\n",
        "                                         batch_size = 16,\n",
        "                                         class_mode = \"categorical\"\n",
        "                                         )\n",
        "\n",
        "validation_set = train.flow_from_directory(\"/content/drive/MyDrive/Retinal_Fundus_Images/val\",\n",
        "                                         target_size = (224,224),\n",
        "                                         batch_size = 16,\n",
        "                                         class_mode = \"categorical\"\n",
        "                                         )\n",
        "\n",
        "testing_set = train.flow_from_directory(\"/content/drive/MyDrive/Retinal_Fundus_Images/test\")"
      ]
    },
    {
      "cell_type": "code",
      "execution_count": null,
      "metadata": {
        "id": "PcbnGQFTnT_8"
      },
      "outputs": [],
      "source": [
        "# Make Model\n",
        "base_model = MobileNetV2(weights = \"imagenet\", include_top=False, input_shape=(224,224, 3))\n",
        "x = base_model.output\n",
        "\n",
        "\n",
        "# Convolutional and Pooling Layers\n",
        "x = Conv2D(64, (3, 3), activation=\"relu\", input_shape = (224, 224, 3), padding=\"same\", strides=1)(x)\n",
        "x = MaxPooling2D(pool_size=(2, 2), strides=(1, 1), padding='same')(x)\n",
        "x = BatchNormalization()(x)\n",
        "\n",
        "x = Conv2D(64, (3, 3), activation=\"relu\", padding=\"same\", strides=1)(x)\n",
        "x = MaxPooling2D(pool_size=(2, 2), strides=(1, 1), padding='same')(x)\n",
        "x = BatchNormalization()(x)\n",
        "\n",
        "x = Conv2D(128, (3, 3), activation=\"relu\", padding=\"same\", strides=1)(x)\n",
        "x = MaxPooling2D(pool_size=(2, 2), strides=(1, 1), padding='same')(x)\n",
        "x = BatchNormalization()(x)\n",
        "\n",
        "x = Conv2D(128, (3, 3), activation=\"relu\", padding=\"same\", strides=1)(x)\n",
        "x = MaxPooling2D(pool_size=(2, 2), strides=(1, 1), padding='same')(x)\n",
        "x = BatchNormalization()(x)\n",
        "\n",
        "# Flatten and Dropout\n",
        "x = Flatten()(x)\n",
        "\n",
        "# Normal Layers With Dropout\n",
        "x = Dense(128, activation=\"relu\")(x)\n",
        "x = Dropout(0.01)(x)\n",
        "x = Dense(128, activation=\"relu\")(x)\n",
        "x = Dropout(0.01)(x)\n",
        "x = Dense(128, activation=\"relu\")(x)\n",
        "x = Dropout(0.01)(x)\n",
        "x = Dense(128, activation=\"relu\")(x)\n",
        "x = Dropout(0.01)(x)\n",
        "\n",
        "preds = Dense(11, activation=\"softmax\")(x)\n",
        "\n",
        "model = Model(inputs = base_model.input, outputs = preds)"
      ]
    },
    {
      "cell_type": "code",
      "execution_count": null,
      "metadata": {
        "id": "bHzlx4GvoPHz",
        "colab": {
          "base_uri": "https://localhost:8080/",
          "height": 214
        },
        "outputId": "28acc884-47ef-43df-afbc-b783c097e321",
        "collapsed": true
      },
      "outputs": [
        {
          "output_type": "error",
          "ename": "NameError",
          "evalue": "ignored",
          "traceback": [
            "\u001b[0;31m---------------------------------------------------------------------------\u001b[0m",
            "\u001b[0;31mNameError\u001b[0m                                 Traceback (most recent call last)",
            "\u001b[0;32m<ipython-input-8-e686b76de2d2>\u001b[0m in \u001b[0;36m<cell line: 5>\u001b[0;34m()\u001b[0m\n\u001b[1;32m      3\u001b[0m \u001b[0moptimizer\u001b[0m \u001b[0;34m=\u001b[0m \u001b[0mAdam\u001b[0m\u001b[0;34m(\u001b[0m\u001b[0mlearning_rate\u001b[0m\u001b[0;34m=\u001b[0m\u001b[0;36m0.0001\u001b[0m\u001b[0;34m)\u001b[0m\u001b[0;34m\u001b[0m\u001b[0;34m\u001b[0m\u001b[0m\n\u001b[1;32m      4\u001b[0m \u001b[0mmodel\u001b[0m\u001b[0;34m.\u001b[0m\u001b[0mcompile\u001b[0m\u001b[0;34m(\u001b[0m\u001b[0mloss\u001b[0m \u001b[0;34m=\u001b[0m \u001b[0;34m\"categorical_crossentropy\"\u001b[0m\u001b[0;34m,\u001b[0m \u001b[0moptimizer\u001b[0m \u001b[0;34m=\u001b[0m \u001b[0moptimizer\u001b[0m\u001b[0;34m,\u001b[0m \u001b[0mmetrics\u001b[0m \u001b[0;34m=\u001b[0m \u001b[0;34m[\u001b[0m\u001b[0;34m\"Accuracy\"\u001b[0m\u001b[0;34m]\u001b[0m\u001b[0;34m)\u001b[0m\u001b[0;34m\u001b[0m\u001b[0;34m\u001b[0m\u001b[0m\n\u001b[0;32m----> 5\u001b[0;31m \u001b[0mmodel\u001b[0m\u001b[0;34m.\u001b[0m\u001b[0mfit\u001b[0m\u001b[0;34m(\u001b[0m\u001b[0mtraining_set\u001b[0m\u001b[0;34m,\u001b[0m \u001b[0mvalidation_data\u001b[0m \u001b[0;34m=\u001b[0m \u001b[0mvalidation_set\u001b[0m\u001b[0;34m,\u001b[0m \u001b[0mepochs\u001b[0m \u001b[0;34m=\u001b[0m \u001b[0mepochs\u001b[0m\u001b[0;34m)\u001b[0m\u001b[0;34m\u001b[0m\u001b[0;34m\u001b[0m\u001b[0m\n\u001b[0m",
            "\u001b[0;31mNameError\u001b[0m: name 'training_set' is not defined"
          ]
        }
      ],
      "source": [
        "# Train and run model\n",
        "epochs = 20\n",
        "optimizer = Adam(learning_rate=0.0001)\n",
        "model.compile(loss = \"categorical_crossentropy\", optimizer = optimizer, metrics = [\"Accuracy\"])\n",
        "model.fit(training_set, validation_data = validation_set, epochs = epochs)"
      ]
    }
  ],
  "metadata": {
    "colab": {
      "provenance": [],
      "include_colab_link": true
    },
    "gpuClass": "standard",
    "kernelspec": {
      "display_name": "Python 3",
      "name": "python3"
    },
    "language_info": {
      "name": "python"
    }
  },
  "nbformat": 4,
  "nbformat_minor": 0
}